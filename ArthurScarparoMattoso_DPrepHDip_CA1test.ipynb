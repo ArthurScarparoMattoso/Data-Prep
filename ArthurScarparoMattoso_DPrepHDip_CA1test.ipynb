{
 "cells": [
  {
   "cell_type": "code",
   "execution_count": 1,
   "id": "3d891b4a",
   "metadata": {},
   "outputs": [],
   "source": [
    "%matplotlib inline\n",
    "import numpy as np\n",
    "from sklearn.decomposition import PCA\n",
    "import seaborn as sns\n",
    "import matplotlib.pyplot as plt\n",
    "import pandas as pd\n",
    "sns.set()"
   ]
  },
  {
   "cell_type": "code",
   "execution_count": 2,
   "id": "e8b19684",
   "metadata": {},
   "outputs": [],
   "source": [
    "#colnames=['MS','App_mod','App_ord','Cou','D_E_Att','Prev_ql','Prev_ql_gr','Nac','Moth_ql','Fath_ql','Moth_oc','Fath_oc','Adm_gra','Dis','Educ_sp_nd','Deb','Tuit_fe_utd','Gen','Sch_hol','Age _en','Int','Curr_cred1','Curr_enro1','Curr_ev1','Curr_appr1','Curr_gr1','Curr_we1','Curr_cred2','Curr_enro2','Curr_ev2','Curr_appr2','Curr_gr2','Curr_we2','Une_rat','Inf_rat','GDP','Tar']\n",
    "missing_values_format= [\"n.a.\",\"?\",\"NA\",\"n/a\",\"na\",\"--\",\"nan\",\"UnKnown\",\"Na\"]\n",
    "df=pd.read_csv(\"student_data.csv\", na_values=missing_values_format)"
   ]
  },
  {
   "cell_type": "code",
   "execution_count": 3,
   "id": "c2a5bb43",
   "metadata": {},
   "outputs": [
    {
     "data": {
      "text/html": [
       "<div>\n",
       "<style scoped>\n",
       "    .dataframe tbody tr th:only-of-type {\n",
       "        vertical-align: middle;\n",
       "    }\n",
       "\n",
       "    .dataframe tbody tr th {\n",
       "        vertical-align: top;\n",
       "    }\n",
       "\n",
       "    .dataframe thead th {\n",
       "        text-align: right;\n",
       "    }\n",
       "</style>\n",
       "<table border=\"1\" class=\"dataframe\">\n",
       "  <thead>\n",
       "    <tr style=\"text-align: right;\">\n",
       "      <th></th>\n",
       "      <th>Marital status</th>\n",
       "      <th>Application mode</th>\n",
       "      <th>Application order</th>\n",
       "      <th>Course</th>\n",
       "      <th>Daytime/evening attendance</th>\n",
       "      <th>Previous qualification</th>\n",
       "      <th>Previous qualification (grade)</th>\n",
       "      <th>Nacionality</th>\n",
       "      <th>Mother's qualification</th>\n",
       "      <th>Father's qualification</th>\n",
       "      <th>...</th>\n",
       "      <th>Curricular units 2nd sem (credited)</th>\n",
       "      <th>Curricular units 2nd sem (enrolled)</th>\n",
       "      <th>Curricular units 2nd sem (evaluations)</th>\n",
       "      <th>Curricular units 2nd sem (approved)</th>\n",
       "      <th>Curricular units 2nd sem (grade)</th>\n",
       "      <th>Curricular units 2nd sem (without evaluations)</th>\n",
       "      <th>Unemployment rate</th>\n",
       "      <th>Inflation rate</th>\n",
       "      <th>GDP</th>\n",
       "      <th>Target</th>\n",
       "    </tr>\n",
       "  </thead>\n",
       "  <tbody>\n",
       "    <tr>\n",
       "      <th>0</th>\n",
       "      <td>1.0</td>\n",
       "      <td>17</td>\n",
       "      <td>5</td>\n",
       "      <td>171.0</td>\n",
       "      <td>1</td>\n",
       "      <td>1</td>\n",
       "      <td>122.0</td>\n",
       "      <td>1</td>\n",
       "      <td>19</td>\n",
       "      <td>12.0</td>\n",
       "      <td>...</td>\n",
       "      <td>0</td>\n",
       "      <td>0.0</td>\n",
       "      <td>0</td>\n",
       "      <td>0</td>\n",
       "      <td>0.000000</td>\n",
       "      <td>0</td>\n",
       "      <td>10.8</td>\n",
       "      <td>1.4</td>\n",
       "      <td>1.74</td>\n",
       "      <td>Dropout</td>\n",
       "    </tr>\n",
       "    <tr>\n",
       "      <th>1</th>\n",
       "      <td>1.0</td>\n",
       "      <td>15</td>\n",
       "      <td>1</td>\n",
       "      <td>9254.0</td>\n",
       "      <td>1</td>\n",
       "      <td>1</td>\n",
       "      <td>160.0</td>\n",
       "      <td>1</td>\n",
       "      <td>1</td>\n",
       "      <td>3.0</td>\n",
       "      <td>...</td>\n",
       "      <td>0</td>\n",
       "      <td>6.0</td>\n",
       "      <td>6</td>\n",
       "      <td>6</td>\n",
       "      <td>13.666667</td>\n",
       "      <td>0</td>\n",
       "      <td>13.9</td>\n",
       "      <td>-0.3</td>\n",
       "      <td>0.79</td>\n",
       "      <td>Graduate</td>\n",
       "    </tr>\n",
       "    <tr>\n",
       "      <th>2</th>\n",
       "      <td>1.0</td>\n",
       "      <td>1</td>\n",
       "      <td>5</td>\n",
       "      <td>9070.0</td>\n",
       "      <td>1</td>\n",
       "      <td>1</td>\n",
       "      <td>122.0</td>\n",
       "      <td>1</td>\n",
       "      <td>37</td>\n",
       "      <td>37.0</td>\n",
       "      <td>...</td>\n",
       "      <td>0</td>\n",
       "      <td>6.0</td>\n",
       "      <td>0</td>\n",
       "      <td>0</td>\n",
       "      <td>0.000000</td>\n",
       "      <td>0</td>\n",
       "      <td>10.8</td>\n",
       "      <td>1.4</td>\n",
       "      <td>1.74</td>\n",
       "      <td>Dropout</td>\n",
       "    </tr>\n",
       "    <tr>\n",
       "      <th>3</th>\n",
       "      <td>1.0</td>\n",
       "      <td>17</td>\n",
       "      <td>2</td>\n",
       "      <td>9773.0</td>\n",
       "      <td>1</td>\n",
       "      <td>1</td>\n",
       "      <td>122.0</td>\n",
       "      <td>1</td>\n",
       "      <td>38</td>\n",
       "      <td>37.0</td>\n",
       "      <td>...</td>\n",
       "      <td>0</td>\n",
       "      <td>6.0</td>\n",
       "      <td>10</td>\n",
       "      <td>5</td>\n",
       "      <td>12.400000</td>\n",
       "      <td>0</td>\n",
       "      <td>9.4</td>\n",
       "      <td>-0.8</td>\n",
       "      <td>-3.12</td>\n",
       "      <td>Graduate</td>\n",
       "    </tr>\n",
       "    <tr>\n",
       "      <th>4</th>\n",
       "      <td>2.0</td>\n",
       "      <td>39</td>\n",
       "      <td>1</td>\n",
       "      <td>8014.0</td>\n",
       "      <td>0</td>\n",
       "      <td>1</td>\n",
       "      <td>100.0</td>\n",
       "      <td>1</td>\n",
       "      <td>37</td>\n",
       "      <td>38.0</td>\n",
       "      <td>...</td>\n",
       "      <td>0</td>\n",
       "      <td>6.0</td>\n",
       "      <td>6</td>\n",
       "      <td>6</td>\n",
       "      <td>13.000000</td>\n",
       "      <td>0</td>\n",
       "      <td>13.9</td>\n",
       "      <td>-0.3</td>\n",
       "      <td>0.79</td>\n",
       "      <td>Graduate</td>\n",
       "    </tr>\n",
       "  </tbody>\n",
       "</table>\n",
       "<p>5 rows × 37 columns</p>\n",
       "</div>"
      ],
      "text/plain": [
       "   Marital status  Application mode  Application order  Course  \\\n",
       "0             1.0                17                  5   171.0   \n",
       "1             1.0                15                  1  9254.0   \n",
       "2             1.0                 1                  5  9070.0   \n",
       "3             1.0                17                  2  9773.0   \n",
       "4             2.0                39                  1  8014.0   \n",
       "\n",
       "   Daytime/evening attendance  Previous qualification  \\\n",
       "0                           1                       1   \n",
       "1                           1                       1   \n",
       "2                           1                       1   \n",
       "3                           1                       1   \n",
       "4                           0                       1   \n",
       "\n",
       "   Previous qualification (grade)  Nacionality  Mother's qualification  \\\n",
       "0                           122.0            1                      19   \n",
       "1                           160.0            1                       1   \n",
       "2                           122.0            1                      37   \n",
       "3                           122.0            1                      38   \n",
       "4                           100.0            1                      37   \n",
       "\n",
       "   Father's qualification  ...  Curricular units 2nd sem (credited)  \\\n",
       "0                    12.0  ...                                    0   \n",
       "1                     3.0  ...                                    0   \n",
       "2                    37.0  ...                                    0   \n",
       "3                    37.0  ...                                    0   \n",
       "4                    38.0  ...                                    0   \n",
       "\n",
       "   Curricular units 2nd sem (enrolled)  \\\n",
       "0                                  0.0   \n",
       "1                                  6.0   \n",
       "2                                  6.0   \n",
       "3                                  6.0   \n",
       "4                                  6.0   \n",
       "\n",
       "   Curricular units 2nd sem (evaluations)  \\\n",
       "0                                       0   \n",
       "1                                       6   \n",
       "2                                       0   \n",
       "3                                      10   \n",
       "4                                       6   \n",
       "\n",
       "   Curricular units 2nd sem (approved)  Curricular units 2nd sem (grade)  \\\n",
       "0                                    0                          0.000000   \n",
       "1                                    6                         13.666667   \n",
       "2                                    0                          0.000000   \n",
       "3                                    5                         12.400000   \n",
       "4                                    6                         13.000000   \n",
       "\n",
       "   Curricular units 2nd sem (without evaluations)  Unemployment rate  \\\n",
       "0                                               0               10.8   \n",
       "1                                               0               13.9   \n",
       "2                                               0               10.8   \n",
       "3                                               0                9.4   \n",
       "4                                               0               13.9   \n",
       "\n",
       "   Inflation rate   GDP    Target  \n",
       "0             1.4  1.74   Dropout  \n",
       "1            -0.3  0.79  Graduate  \n",
       "2             1.4  1.74   Dropout  \n",
       "3            -0.8 -3.12  Graduate  \n",
       "4            -0.3  0.79  Graduate  \n",
       "\n",
       "[5 rows x 37 columns]"
      ]
     },
     "execution_count": 3,
     "metadata": {},
     "output_type": "execute_result"
    }
   ],
   "source": [
    "df.head()"
   ]
  },
  {
   "cell_type": "code",
   "execution_count": 4,
   "id": "854c592d",
   "metadata": {},
   "outputs": [],
   "source": [
    "df.rename(columns={\"Marital status\":\"Marital_status\"}, inplace= True)\n",
    "df.rename(columns={\"Application mode\":\"Application_mode\"}, inplace= True)\n",
    "df.rename(columns={\"Application order\":\"Application_order\"}, inplace= True)\n",
    "df.rename(columns={\"Daytime/evening attendance\":\"Daytime/evening_attendance\"}, inplace= True)\n",
    "df.rename(columns={\"Previous qualification\":\"Previous_qualification\"}, inplace= True)\n",
    "df.rename(columns={\"Previous qualification (grade)\":\"Previous_qualification_(grade)\"}, inplace= True)\n",
    "df.rename(columns={\"Mother's qualification\":\"Mother's_qualification\"}, inplace= True)\n",
    "df.rename(columns={\"Father's qualification\":\"Father's_qualification\"}, inplace= True)\n",
    "df.rename(columns={\"Mother's occupation\":\"Mother's_occupation\"}, inplace= True)\n",
    "df.rename(columns={\"Father's occupation\":\"Father's_occupation\"}, inplace= True)\n",
    "df.rename(columns={\"Admission grade\":\"Admission_grade\"}, inplace= True)\n",
    "df.rename(columns={\"Educational special needs\":\"Educational_special_needs\"}, inplace= True)\n",
    "df.rename(columns={\"Tuition fees up to date\":\"Tuition_fees_up_to_date\"}, inplace= True)\n",
    "df.rename(columns={\"Scholarship holder\":\"Scholarship_holder\"}, inplace= True)\n",
    "df.rename(columns={\"Age at enrollment\":\"Age_at_enrollment\"}, inplace= True)\n",
    "df.rename(columns={\"Curricular units 1st sem (credited)\":\"Curricular_units_1st_sem_(credited)\"}, inplace= True)\n",
    "df.rename(columns={\"Curricular units 1st sem (enrolled)\":\"Curricular_units_1st_sem_(enrolled)\"}, inplace= True)\n",
    "df.rename(columns={\"Curricular units 1st sem (evaluations)\":\"Curricular_units_1st_sem_(evaluations)\"}, inplace= True)\n",
    "df.rename(columns={\"Curricular units 1st sem (approved)\":\"Curricular_units_1st_sem_(approved)\"}, inplace= True)\n",
    "df.rename(columns={\"Curricular units 1st sem (grade)\":\"Curricular_units_1st_sem_(grade)\"}, inplace= True)\n",
    "df.rename(columns={\"Curricular units 1st sem (without evaluations)\":\"Curricular_units_1st_sem_(without_evaluations)\"}, inplace= True)\n",
    "df.rename(columns={\"Curricular units 2nd sem (credited)\":\"Curricular_units_2nd_sem_(credited)\"}, inplace= True)\n",
    "df.rename(columns={\"Curricular units 2nd sem (enrolled)\":\"Curricular_units_2nd_sem_(enrolled)\"}, inplace= True)\n",
    "df.rename(columns={\"Curricular units 2nd sem (evaluations)\":\"Curricular_units_2nd_sem_(evaluations)\"}, inplace= True)\n",
    "df.rename(columns={\"Curricular units 2nd sem (approved)\":\"Curricular_units_2nd_sem_(approved)\"}, inplace= True)\n",
    "df.rename(columns={\"Curricular units 2nd sem (grade)\":\"Curricular_units_2nd_sem_(grade)\"}, inplace= True)\n",
    "df.rename(columns={\"Curricular units 2nd sem (without evaluations)\":\"Curricular_units_2nd_sem_(without_evaluations)\"}, inplace= True)\n",
    "df.rename(columns={\"Unemployment rate\":\"Unemployment_rate\"}, inplace= True)\n",
    "df.rename(columns={\"Inflation rate\":\"Inflation_rate\"}, inplace= True)"
   ]
  },
  {
   "cell_type": "code",
   "execution_count": 5,
   "id": "1990cad6",
   "metadata": {},
   "outputs": [
    {
     "data": {
      "text/html": [
       "<div>\n",
       "<style scoped>\n",
       "    .dataframe tbody tr th:only-of-type {\n",
       "        vertical-align: middle;\n",
       "    }\n",
       "\n",
       "    .dataframe tbody tr th {\n",
       "        vertical-align: top;\n",
       "    }\n",
       "\n",
       "    .dataframe thead th {\n",
       "        text-align: right;\n",
       "    }\n",
       "</style>\n",
       "<table border=\"1\" class=\"dataframe\">\n",
       "  <thead>\n",
       "    <tr style=\"text-align: right;\">\n",
       "      <th></th>\n",
       "      <th>Marital_status</th>\n",
       "      <th>Application_mode</th>\n",
       "      <th>Application_order</th>\n",
       "      <th>Course</th>\n",
       "      <th>Daytime/evening_attendance</th>\n",
       "      <th>Previous_qualification</th>\n",
       "      <th>Previous_qualification_(grade)</th>\n",
       "      <th>Nacionality</th>\n",
       "      <th>Mother's_qualification</th>\n",
       "      <th>Father's_qualification</th>\n",
       "      <th>...</th>\n",
       "      <th>Curricular_units_2nd_sem_(credited)</th>\n",
       "      <th>Curricular_units_2nd_sem_(enrolled)</th>\n",
       "      <th>Curricular_units_2nd_sem_(evaluations)</th>\n",
       "      <th>Curricular_units_2nd_sem_(approved)</th>\n",
       "      <th>Curricular_units_2nd_sem_(grade)</th>\n",
       "      <th>Curricular_units_2nd_sem_(without_evaluations)</th>\n",
       "      <th>Unemployment_rate</th>\n",
       "      <th>Inflation_rate</th>\n",
       "      <th>GDP</th>\n",
       "      <th>Target</th>\n",
       "    </tr>\n",
       "  </thead>\n",
       "  <tbody>\n",
       "    <tr>\n",
       "      <th>0</th>\n",
       "      <td>1.0</td>\n",
       "      <td>17</td>\n",
       "      <td>5</td>\n",
       "      <td>171.0</td>\n",
       "      <td>1</td>\n",
       "      <td>1</td>\n",
       "      <td>122.0</td>\n",
       "      <td>1</td>\n",
       "      <td>19</td>\n",
       "      <td>12.0</td>\n",
       "      <td>...</td>\n",
       "      <td>0</td>\n",
       "      <td>0.0</td>\n",
       "      <td>0</td>\n",
       "      <td>0</td>\n",
       "      <td>0.000000</td>\n",
       "      <td>0</td>\n",
       "      <td>10.8</td>\n",
       "      <td>1.4</td>\n",
       "      <td>1.74</td>\n",
       "      <td>Dropout</td>\n",
       "    </tr>\n",
       "    <tr>\n",
       "      <th>1</th>\n",
       "      <td>1.0</td>\n",
       "      <td>15</td>\n",
       "      <td>1</td>\n",
       "      <td>9254.0</td>\n",
       "      <td>1</td>\n",
       "      <td>1</td>\n",
       "      <td>160.0</td>\n",
       "      <td>1</td>\n",
       "      <td>1</td>\n",
       "      <td>3.0</td>\n",
       "      <td>...</td>\n",
       "      <td>0</td>\n",
       "      <td>6.0</td>\n",
       "      <td>6</td>\n",
       "      <td>6</td>\n",
       "      <td>13.666667</td>\n",
       "      <td>0</td>\n",
       "      <td>13.9</td>\n",
       "      <td>-0.3</td>\n",
       "      <td>0.79</td>\n",
       "      <td>Graduate</td>\n",
       "    </tr>\n",
       "    <tr>\n",
       "      <th>2</th>\n",
       "      <td>1.0</td>\n",
       "      <td>1</td>\n",
       "      <td>5</td>\n",
       "      <td>9070.0</td>\n",
       "      <td>1</td>\n",
       "      <td>1</td>\n",
       "      <td>122.0</td>\n",
       "      <td>1</td>\n",
       "      <td>37</td>\n",
       "      <td>37.0</td>\n",
       "      <td>...</td>\n",
       "      <td>0</td>\n",
       "      <td>6.0</td>\n",
       "      <td>0</td>\n",
       "      <td>0</td>\n",
       "      <td>0.000000</td>\n",
       "      <td>0</td>\n",
       "      <td>10.8</td>\n",
       "      <td>1.4</td>\n",
       "      <td>1.74</td>\n",
       "      <td>Dropout</td>\n",
       "    </tr>\n",
       "    <tr>\n",
       "      <th>3</th>\n",
       "      <td>1.0</td>\n",
       "      <td>17</td>\n",
       "      <td>2</td>\n",
       "      <td>9773.0</td>\n",
       "      <td>1</td>\n",
       "      <td>1</td>\n",
       "      <td>122.0</td>\n",
       "      <td>1</td>\n",
       "      <td>38</td>\n",
       "      <td>37.0</td>\n",
       "      <td>...</td>\n",
       "      <td>0</td>\n",
       "      <td>6.0</td>\n",
       "      <td>10</td>\n",
       "      <td>5</td>\n",
       "      <td>12.400000</td>\n",
       "      <td>0</td>\n",
       "      <td>9.4</td>\n",
       "      <td>-0.8</td>\n",
       "      <td>-3.12</td>\n",
       "      <td>Graduate</td>\n",
       "    </tr>\n",
       "    <tr>\n",
       "      <th>4</th>\n",
       "      <td>2.0</td>\n",
       "      <td>39</td>\n",
       "      <td>1</td>\n",
       "      <td>8014.0</td>\n",
       "      <td>0</td>\n",
       "      <td>1</td>\n",
       "      <td>100.0</td>\n",
       "      <td>1</td>\n",
       "      <td>37</td>\n",
       "      <td>38.0</td>\n",
       "      <td>...</td>\n",
       "      <td>0</td>\n",
       "      <td>6.0</td>\n",
       "      <td>6</td>\n",
       "      <td>6</td>\n",
       "      <td>13.000000</td>\n",
       "      <td>0</td>\n",
       "      <td>13.9</td>\n",
       "      <td>-0.3</td>\n",
       "      <td>0.79</td>\n",
       "      <td>Graduate</td>\n",
       "    </tr>\n",
       "  </tbody>\n",
       "</table>\n",
       "<p>5 rows × 37 columns</p>\n",
       "</div>"
      ],
      "text/plain": [
       "   Marital_status  Application_mode  Application_order  Course  \\\n",
       "0             1.0                17                  5   171.0   \n",
       "1             1.0                15                  1  9254.0   \n",
       "2             1.0                 1                  5  9070.0   \n",
       "3             1.0                17                  2  9773.0   \n",
       "4             2.0                39                  1  8014.0   \n",
       "\n",
       "   Daytime/evening_attendance  Previous_qualification  \\\n",
       "0                           1                       1   \n",
       "1                           1                       1   \n",
       "2                           1                       1   \n",
       "3                           1                       1   \n",
       "4                           0                       1   \n",
       "\n",
       "   Previous_qualification_(grade)  Nacionality  Mother's_qualification  \\\n",
       "0                           122.0            1                      19   \n",
       "1                           160.0            1                       1   \n",
       "2                           122.0            1                      37   \n",
       "3                           122.0            1                      38   \n",
       "4                           100.0            1                      37   \n",
       "\n",
       "   Father's_qualification  ...  Curricular_units_2nd_sem_(credited)  \\\n",
       "0                    12.0  ...                                    0   \n",
       "1                     3.0  ...                                    0   \n",
       "2                    37.0  ...                                    0   \n",
       "3                    37.0  ...                                    0   \n",
       "4                    38.0  ...                                    0   \n",
       "\n",
       "   Curricular_units_2nd_sem_(enrolled)  \\\n",
       "0                                  0.0   \n",
       "1                                  6.0   \n",
       "2                                  6.0   \n",
       "3                                  6.0   \n",
       "4                                  6.0   \n",
       "\n",
       "   Curricular_units_2nd_sem_(evaluations)  \\\n",
       "0                                       0   \n",
       "1                                       6   \n",
       "2                                       0   \n",
       "3                                      10   \n",
       "4                                       6   \n",
       "\n",
       "   Curricular_units_2nd_sem_(approved)  Curricular_units_2nd_sem_(grade)  \\\n",
       "0                                    0                          0.000000   \n",
       "1                                    6                         13.666667   \n",
       "2                                    0                          0.000000   \n",
       "3                                    5                         12.400000   \n",
       "4                                    6                         13.000000   \n",
       "\n",
       "   Curricular_units_2nd_sem_(without_evaluations)  Unemployment_rate  \\\n",
       "0                                               0               10.8   \n",
       "1                                               0               13.9   \n",
       "2                                               0               10.8   \n",
       "3                                               0                9.4   \n",
       "4                                               0               13.9   \n",
       "\n",
       "   Inflation_rate   GDP    Target  \n",
       "0             1.4  1.74   Dropout  \n",
       "1            -0.3  0.79  Graduate  \n",
       "2             1.4  1.74   Dropout  \n",
       "3            -0.8 -3.12  Graduate  \n",
       "4            -0.3  0.79  Graduate  \n",
       "\n",
       "[5 rows x 37 columns]"
      ]
     },
     "execution_count": 5,
     "metadata": {},
     "output_type": "execute_result"
    }
   ],
   "source": [
    "df.head()"
   ]
  },
  {
   "cell_type": "code",
   "execution_count": 6,
   "id": "0198f826",
   "metadata": {},
   "outputs": [
    {
     "data": {
      "text/plain": [
       "(4424, 37)"
      ]
     },
     "execution_count": 6,
     "metadata": {},
     "output_type": "execute_result"
    }
   ],
   "source": [
    "df.shape"
   ]
  },
  {
   "cell_type": "code",
   "execution_count": 7,
   "id": "c7e6761d",
   "metadata": {},
   "outputs": [
    {
     "name": "stdout",
     "output_type": "stream",
     "text": [
      "<class 'pandas.core.frame.DataFrame'>\n",
      "RangeIndex: 4424 entries, 0 to 4423\n",
      "Data columns (total 37 columns):\n",
      " #   Column                                          Non-Null Count  Dtype  \n",
      "---  ------                                          --------------  -----  \n",
      " 0   Marital_status                                  4423 non-null   float64\n",
      " 1   Application_mode                                4424 non-null   int64  \n",
      " 2   Application_order                               4424 non-null   int64  \n",
      " 3   Course                                          4423 non-null   float64\n",
      " 4   Daytime/evening_attendance                      4424 non-null   int64  \n",
      " 5   Previous_qualification                          4424 non-null   int64  \n",
      " 6   Previous_qualification_(grade)                  4424 non-null   float64\n",
      " 7   Nacionality                                     4424 non-null   int64  \n",
      " 8   Mother's_qualification                          4424 non-null   int64  \n",
      " 9   Father's_qualification                          4423 non-null   float64\n",
      " 10  Mother's_occupation                             4424 non-null   int64  \n",
      " 11  Father's_occupation                             4424 non-null   int64  \n",
      " 12  Admission_grade                                 4423 non-null   float64\n",
      " 13  Displaced                                       4423 non-null   float64\n",
      " 14  Educational_special_needs                       4424 non-null   int64  \n",
      " 15  Debtor                                          4423 non-null   float64\n",
      " 16  Tuition_fees_up_to_date                         4422 non-null   float64\n",
      " 17  Gender                                          4424 non-null   int64  \n",
      " 18  Scholarship_holder                              4424 non-null   int64  \n",
      " 19  Age_at_enrollment                               4423 non-null   float64\n",
      " 20  International                                   4423 non-null   float64\n",
      " 21  Curricular_units_1st_sem_(credited)             4423 non-null   float64\n",
      " 22  Curricular_units_1st_sem_(enrolled)             4424 non-null   int64  \n",
      " 23  Curricular_units_1st_sem_(evaluations)          4424 non-null   int64  \n",
      " 24  Curricular_units_1st_sem_(approved)             4424 non-null   int64  \n",
      " 25  Curricular_units_1st_sem_(grade)                4423 non-null   float64\n",
      " 26  Curricular_units_1st_sem_(without_evaluations)  4424 non-null   int64  \n",
      " 27  Curricular_units_2nd_sem_(credited)             4424 non-null   int64  \n",
      " 28  Curricular_units_2nd_sem_(enrolled)             4423 non-null   float64\n",
      " 29  Curricular_units_2nd_sem_(evaluations)          4424 non-null   int64  \n",
      " 30  Curricular_units_2nd_sem_(approved)             4424 non-null   int64  \n",
      " 31  Curricular_units_2nd_sem_(grade)                4423 non-null   float64\n",
      " 32  Curricular_units_2nd_sem_(without_evaluations)  4424 non-null   int64  \n",
      " 33  Unemployment_rate                               4424 non-null   float64\n",
      " 34  Inflation_rate                                  4424 non-null   float64\n",
      " 35  GDP                                             4424 non-null   float64\n",
      " 36  Target                                          4424 non-null   object \n",
      "dtypes: float64(17), int64(19), object(1)\n",
      "memory usage: 1.2+ MB\n"
     ]
    }
   ],
   "source": [
    "df.info()"
   ]
  },
  {
   "cell_type": "code",
   "execution_count": 8,
   "id": "5b8070e1",
   "metadata": {},
   "outputs": [
    {
     "data": {
      "text/plain": [
       "Marital_status                                    1\n",
       "Application_mode                                  0\n",
       "Application_order                                 0\n",
       "Course                                            1\n",
       "Daytime/evening_attendance                        0\n",
       "Previous_qualification                            0\n",
       "Previous_qualification_(grade)                    0\n",
       "Nacionality                                       0\n",
       "Mother's_qualification                            0\n",
       "Father's_qualification                            1\n",
       "Mother's_occupation                               0\n",
       "Father's_occupation                               0\n",
       "Admission_grade                                   1\n",
       "Displaced                                         1\n",
       "Educational_special_needs                         0\n",
       "Debtor                                            1\n",
       "Tuition_fees_up_to_date                           2\n",
       "Gender                                            0\n",
       "Scholarship_holder                                0\n",
       "Age_at_enrollment                                 1\n",
       "International                                     1\n",
       "Curricular_units_1st_sem_(credited)               1\n",
       "Curricular_units_1st_sem_(enrolled)               0\n",
       "Curricular_units_1st_sem_(evaluations)            0\n",
       "Curricular_units_1st_sem_(approved)               0\n",
       "Curricular_units_1st_sem_(grade)                  1\n",
       "Curricular_units_1st_sem_(without_evaluations)    0\n",
       "Curricular_units_2nd_sem_(credited)               0\n",
       "Curricular_units_2nd_sem_(enrolled)               1\n",
       "Curricular_units_2nd_sem_(evaluations)            0\n",
       "Curricular_units_2nd_sem_(approved)               0\n",
       "Curricular_units_2nd_sem_(grade)                  1\n",
       "Curricular_units_2nd_sem_(without_evaluations)    0\n",
       "Unemployment_rate                                 0\n",
       "Inflation_rate                                    0\n",
       "GDP                                               0\n",
       "Target                                            0\n",
       "dtype: int64"
      ]
     },
     "execution_count": 8,
     "metadata": {},
     "output_type": "execute_result"
    }
   ],
   "source": [
    "df.isnull().sum()"
   ]
  },
  {
   "cell_type": "code",
   "execution_count": 9,
   "id": "a0587e4d",
   "metadata": {},
   "outputs": [
    {
     "data": {
      "text/plain": [
       "array([ 1.,  0., nan])"
      ]
     },
     "execution_count": 9,
     "metadata": {},
     "output_type": "execute_result"
    }
   ],
   "source": [
    "df[\"Tuition_fees_up_to_date\"].unique()"
   ]
  },
  {
   "cell_type": "code",
   "execution_count": 10,
   "id": "9636d3c6",
   "metadata": {},
   "outputs": [
    {
     "data": {
      "text/plain": [
       "array([20., 19., 45., 50., 18., 22., 21., 34., 37., 43., 55., 39., 29.,\n",
       "       24., 27., 23., 26., 33., 35., 25., 44., 36., 47., 28., 38., nan,\n",
       "       30., 31., 32., 40., 42., 48., 49., 46., 41., 70., 60., 53., 51.,\n",
       "       52., 54., 61., 58., 59., 17., 57., 62.])"
      ]
     },
     "execution_count": 10,
     "metadata": {},
     "output_type": "execute_result"
    }
   ],
   "source": [
    "#Age_at_enrollment\n",
    "df[\"Age_at_enrollment\"].unique()"
   ]
  },
  {
   "cell_type": "code",
   "execution_count": 11,
   "id": "8cf9c026",
   "metadata": {},
   "outputs": [
    {
     "data": {
      "text/plain": [
       "array([ 0.,  2.,  3.,  6.,  7., 13.,  4.,  1.,  5., 19., 11.,  8., 10.,\n",
       "        9., 15., 12., 14., 18., 17., 16., 20., nan])"
      ]
     },
     "execution_count": 11,
     "metadata": {},
     "output_type": "execute_result"
    }
   ],
   "source": [
    "#Curricular_units_1st_sem_(credited)\n",
    "df[\"Curricular_units_1st_sem_(credited)\"].unique()"
   ]
  },
  {
   "cell_type": "code",
   "execution_count": null,
   "id": "7accd751",
   "metadata": {},
   "outputs": [],
   "source": []
  },
  {
   "cell_type": "code",
   "execution_count": 12,
   "id": "0822f8d9",
   "metadata": {},
   "outputs": [
    {
     "name": "stdout",
     "output_type": "stream",
     "text": [
      "<class 'pandas.core.frame.DataFrame'>\n",
      "RangeIndex: 4424 entries, 0 to 4423\n",
      "Data columns (total 37 columns):\n",
      " #   Column                                          Non-Null Count  Dtype  \n",
      "---  ------                                          --------------  -----  \n",
      " 0   Marital_status                                  4423 non-null   float64\n",
      " 1   Application_mode                                4424 non-null   int64  \n",
      " 2   Application_order                               4424 non-null   int64  \n",
      " 3   Course                                          4423 non-null   float64\n",
      " 4   Daytime/evening_attendance                      4424 non-null   int64  \n",
      " 5   Previous_qualification                          4424 non-null   int64  \n",
      " 6   Previous_qualification_(grade)                  4424 non-null   float64\n",
      " 7   Nacionality                                     4424 non-null   int64  \n",
      " 8   Mother's_qualification                          4424 non-null   int64  \n",
      " 9   Father's_qualification                          4423 non-null   float64\n",
      " 10  Mother's_occupation                             4424 non-null   int64  \n",
      " 11  Father's_occupation                             4424 non-null   int64  \n",
      " 12  Admission_grade                                 4423 non-null   float64\n",
      " 13  Displaced                                       4423 non-null   float64\n",
      " 14  Educational_special_needs                       4424 non-null   int64  \n",
      " 15  Debtor                                          4423 non-null   float64\n",
      " 16  Tuition_fees_up_to_date                         4422 non-null   float64\n",
      " 17  Gender                                          4424 non-null   int64  \n",
      " 18  Scholarship_holder                              4424 non-null   int64  \n",
      " 19  Age_at_enrollment                               4423 non-null   float64\n",
      " 20  International                                   4423 non-null   float64\n",
      " 21  Curricular_units_1st_sem_(credited)             4423 non-null   float64\n",
      " 22  Curricular_units_1st_sem_(enrolled)             4424 non-null   int64  \n",
      " 23  Curricular_units_1st_sem_(evaluations)          4424 non-null   int64  \n",
      " 24  Curricular_units_1st_sem_(approved)             4424 non-null   int64  \n",
      " 25  Curricular_units_1st_sem_(grade)                4423 non-null   float64\n",
      " 26  Curricular_units_1st_sem_(without_evaluations)  4424 non-null   int64  \n",
      " 27  Curricular_units_2nd_sem_(credited)             4424 non-null   int64  \n",
      " 28  Curricular_units_2nd_sem_(enrolled)             4423 non-null   float64\n",
      " 29  Curricular_units_2nd_sem_(evaluations)          4424 non-null   int64  \n",
      " 30  Curricular_units_2nd_sem_(approved)             4424 non-null   int64  \n",
      " 31  Curricular_units_2nd_sem_(grade)                4423 non-null   float64\n",
      " 32  Curricular_units_2nd_sem_(without_evaluations)  4424 non-null   int64  \n",
      " 33  Unemployment_rate                               4424 non-null   float64\n",
      " 34  Inflation_rate                                  4424 non-null   float64\n",
      " 35  GDP                                             4424 non-null   float64\n",
      " 36  Target                                          4424 non-null   object \n",
      "dtypes: float64(17), int64(19), object(1)\n",
      "memory usage: 1.2+ MB\n"
     ]
    }
   ],
   "source": [
    "df.info()"
   ]
  },
  {
   "cell_type": "code",
   "execution_count": 13,
   "id": "d688a7d8",
   "metadata": {},
   "outputs": [
    {
     "data": {
      "text/plain": [
       "Marital_status                                    1\n",
       "Application_mode                                  0\n",
       "Application_order                                 0\n",
       "Course                                            1\n",
       "Daytime/evening_attendance                        0\n",
       "Previous_qualification                            0\n",
       "Previous_qualification_(grade)                    0\n",
       "Nacionality                                       0\n",
       "Mother's_qualification                            0\n",
       "Father's_qualification                            1\n",
       "Mother's_occupation                               0\n",
       "Father's_occupation                               0\n",
       "Admission_grade                                   1\n",
       "Displaced                                         1\n",
       "Educational_special_needs                         0\n",
       "Debtor                                            1\n",
       "Tuition_fees_up_to_date                           2\n",
       "Gender                                            0\n",
       "Scholarship_holder                                0\n",
       "Age_at_enrollment                                 1\n",
       "International                                     1\n",
       "Curricular_units_1st_sem_(credited)               1\n",
       "Curricular_units_1st_sem_(enrolled)               0\n",
       "Curricular_units_1st_sem_(evaluations)            0\n",
       "Curricular_units_1st_sem_(approved)               0\n",
       "Curricular_units_1st_sem_(grade)                  1\n",
       "Curricular_units_1st_sem_(without_evaluations)    0\n",
       "Curricular_units_2nd_sem_(credited)               0\n",
       "Curricular_units_2nd_sem_(enrolled)               1\n",
       "Curricular_units_2nd_sem_(evaluations)            0\n",
       "Curricular_units_2nd_sem_(approved)               0\n",
       "Curricular_units_2nd_sem_(grade)                  1\n",
       "Curricular_units_2nd_sem_(without_evaluations)    0\n",
       "Unemployment_rate                                 0\n",
       "Inflation_rate                                    0\n",
       "GDP                                               0\n",
       "Target                                            0\n",
       "dtype: int64"
      ]
     },
     "execution_count": 13,
     "metadata": {},
     "output_type": "execute_result"
    }
   ],
   "source": [
    "df.isnull().sum()"
   ]
  },
  {
   "cell_type": "code",
   "execution_count": 14,
   "id": "301f8ba5",
   "metadata": {},
   "outputs": [
    {
     "data": {
      "text/plain": [
       "True"
      ]
     },
     "execution_count": 14,
     "metadata": {},
     "output_type": "execute_result"
    }
   ],
   "source": [
    "df.isnull().values.any()"
   ]
  },
  {
   "cell_type": "code",
   "execution_count": 15,
   "id": "329149d4",
   "metadata": {},
   "outputs": [
    {
     "data": {
      "text/plain": [
       "(4424, 37)"
      ]
     },
     "execution_count": 15,
     "metadata": {},
     "output_type": "execute_result"
    }
   ],
   "source": [
    "df.shape"
   ]
  },
  {
   "cell_type": "code",
   "execution_count": 16,
   "id": "aaefe6c0",
   "metadata": {},
   "outputs": [],
   "source": [
    "df=df.dropna(axis=0)"
   ]
  },
  {
   "cell_type": "code",
   "execution_count": 17,
   "id": "c1270101",
   "metadata": {},
   "outputs": [
    {
     "data": {
      "text/plain": [
       "False"
      ]
     },
     "execution_count": 17,
     "metadata": {},
     "output_type": "execute_result"
    }
   ],
   "source": [
    "df.isnull().values.any()"
   ]
  },
  {
   "cell_type": "code",
   "execution_count": 18,
   "id": "5a3b97e8",
   "metadata": {},
   "outputs": [
    {
     "data": {
      "text/plain": [
       "(4411, 37)"
      ]
     },
     "execution_count": 18,
     "metadata": {},
     "output_type": "execute_result"
    }
   ],
   "source": [
    "df.shape"
   ]
  },
  {
   "cell_type": "code",
   "execution_count": 19,
   "id": "7e137e25",
   "metadata": {},
   "outputs": [
    {
     "data": {
      "text/plain": [
       "array(['Dropout', 'Graduate', 'Enrolled', 'Grad', 'graduate', 'Drop',\n",
       "       'dropout'], dtype=object)"
      ]
     },
     "execution_count": 19,
     "metadata": {},
     "output_type": "execute_result"
    }
   ],
   "source": [
    "df[\"Target\"].unique()"
   ]
  },
  {
   "cell_type": "code",
   "execution_count": 20,
   "id": "4ace6d73",
   "metadata": {},
   "outputs": [],
   "source": [
    "df['Target'].replace('Grad', 1, inplace=True)\n",
    "df['Target'].replace('graduate', 1, inplace=True)\n",
    "df['Target'].replace('Drop', 0, inplace=True)\n",
    "df['Target'].replace('dropout', 0, inplace=True)\n",
    "df['Target'].replace('Dropout', 0, inplace=True)\n",
    "df['Target'].replace('Graduate', 1, inplace=True)\n",
    "df['Target'].replace('Enrolled', 2, inplace=True)"
   ]
  },
  {
   "cell_type": "code",
   "execution_count": 21,
   "id": "07d1b3b0",
   "metadata": {},
   "outputs": [
    {
     "data": {
      "text/plain": [
       "array([0, 1, 2], dtype=int64)"
      ]
     },
     "execution_count": 21,
     "metadata": {},
     "output_type": "execute_result"
    }
   ],
   "source": [
    "df[\"Target\"].unique()"
   ]
  },
  {
   "cell_type": "code",
   "execution_count": 22,
   "id": "8e7f252a",
   "metadata": {},
   "outputs": [
    {
     "data": {
      "text/plain": [
       "count    4411.000000\n",
       "mean        0.858309\n",
       "std         0.693416\n",
       "min         0.000000\n",
       "25%         0.000000\n",
       "50%         1.000000\n",
       "75%         1.000000\n",
       "max         2.000000\n",
       "Name: Target, dtype: float64"
      ]
     },
     "execution_count": 22,
     "metadata": {},
     "output_type": "execute_result"
    }
   ],
   "source": [
    "df[\"Target\"].describe()"
   ]
  },
  {
   "cell_type": "code",
   "execution_count": 23,
   "id": "f4fc104d",
   "metadata": {},
   "outputs": [],
   "source": [
    "df_no_label=df.drop(columns=[\"Target\"])"
   ]
  },
  {
   "cell_type": "code",
   "execution_count": 24,
   "id": "ee88caae",
   "metadata": {},
   "outputs": [
    {
     "data": {
      "text/html": [
       "<div>\n",
       "<style scoped>\n",
       "    .dataframe tbody tr th:only-of-type {\n",
       "        vertical-align: middle;\n",
       "    }\n",
       "\n",
       "    .dataframe tbody tr th {\n",
       "        vertical-align: top;\n",
       "    }\n",
       "\n",
       "    .dataframe thead th {\n",
       "        text-align: right;\n",
       "    }\n",
       "</style>\n",
       "<table border=\"1\" class=\"dataframe\">\n",
       "  <thead>\n",
       "    <tr style=\"text-align: right;\">\n",
       "      <th></th>\n",
       "      <th>Marital_status</th>\n",
       "      <th>Application_mode</th>\n",
       "      <th>Application_order</th>\n",
       "      <th>Course</th>\n",
       "      <th>Daytime/evening_attendance</th>\n",
       "      <th>Previous_qualification</th>\n",
       "      <th>Previous_qualification_(grade)</th>\n",
       "      <th>Nacionality</th>\n",
       "      <th>Mother's_qualification</th>\n",
       "      <th>Father's_qualification</th>\n",
       "      <th>...</th>\n",
       "      <th>Curricular_units_1st_sem_(without_evaluations)</th>\n",
       "      <th>Curricular_units_2nd_sem_(credited)</th>\n",
       "      <th>Curricular_units_2nd_sem_(enrolled)</th>\n",
       "      <th>Curricular_units_2nd_sem_(evaluations)</th>\n",
       "      <th>Curricular_units_2nd_sem_(approved)</th>\n",
       "      <th>Curricular_units_2nd_sem_(grade)</th>\n",
       "      <th>Curricular_units_2nd_sem_(without_evaluations)</th>\n",
       "      <th>Unemployment_rate</th>\n",
       "      <th>Inflation_rate</th>\n",
       "      <th>GDP</th>\n",
       "    </tr>\n",
       "  </thead>\n",
       "  <tbody>\n",
       "    <tr>\n",
       "      <th>0</th>\n",
       "      <td>1.0</td>\n",
       "      <td>17</td>\n",
       "      <td>5</td>\n",
       "      <td>171.0</td>\n",
       "      <td>1</td>\n",
       "      <td>1</td>\n",
       "      <td>122.0</td>\n",
       "      <td>1</td>\n",
       "      <td>19</td>\n",
       "      <td>12.0</td>\n",
       "      <td>...</td>\n",
       "      <td>0</td>\n",
       "      <td>0</td>\n",
       "      <td>0.0</td>\n",
       "      <td>0</td>\n",
       "      <td>0</td>\n",
       "      <td>0.000000</td>\n",
       "      <td>0</td>\n",
       "      <td>10.8</td>\n",
       "      <td>1.4</td>\n",
       "      <td>1.74</td>\n",
       "    </tr>\n",
       "    <tr>\n",
       "      <th>1</th>\n",
       "      <td>1.0</td>\n",
       "      <td>15</td>\n",
       "      <td>1</td>\n",
       "      <td>9254.0</td>\n",
       "      <td>1</td>\n",
       "      <td>1</td>\n",
       "      <td>160.0</td>\n",
       "      <td>1</td>\n",
       "      <td>1</td>\n",
       "      <td>3.0</td>\n",
       "      <td>...</td>\n",
       "      <td>0</td>\n",
       "      <td>0</td>\n",
       "      <td>6.0</td>\n",
       "      <td>6</td>\n",
       "      <td>6</td>\n",
       "      <td>13.666667</td>\n",
       "      <td>0</td>\n",
       "      <td>13.9</td>\n",
       "      <td>-0.3</td>\n",
       "      <td>0.79</td>\n",
       "    </tr>\n",
       "    <tr>\n",
       "      <th>2</th>\n",
       "      <td>1.0</td>\n",
       "      <td>1</td>\n",
       "      <td>5</td>\n",
       "      <td>9070.0</td>\n",
       "      <td>1</td>\n",
       "      <td>1</td>\n",
       "      <td>122.0</td>\n",
       "      <td>1</td>\n",
       "      <td>37</td>\n",
       "      <td>37.0</td>\n",
       "      <td>...</td>\n",
       "      <td>0</td>\n",
       "      <td>0</td>\n",
       "      <td>6.0</td>\n",
       "      <td>0</td>\n",
       "      <td>0</td>\n",
       "      <td>0.000000</td>\n",
       "      <td>0</td>\n",
       "      <td>10.8</td>\n",
       "      <td>1.4</td>\n",
       "      <td>1.74</td>\n",
       "    </tr>\n",
       "    <tr>\n",
       "      <th>3</th>\n",
       "      <td>1.0</td>\n",
       "      <td>17</td>\n",
       "      <td>2</td>\n",
       "      <td>9773.0</td>\n",
       "      <td>1</td>\n",
       "      <td>1</td>\n",
       "      <td>122.0</td>\n",
       "      <td>1</td>\n",
       "      <td>38</td>\n",
       "      <td>37.0</td>\n",
       "      <td>...</td>\n",
       "      <td>0</td>\n",
       "      <td>0</td>\n",
       "      <td>6.0</td>\n",
       "      <td>10</td>\n",
       "      <td>5</td>\n",
       "      <td>12.400000</td>\n",
       "      <td>0</td>\n",
       "      <td>9.4</td>\n",
       "      <td>-0.8</td>\n",
       "      <td>-3.12</td>\n",
       "    </tr>\n",
       "    <tr>\n",
       "      <th>4</th>\n",
       "      <td>2.0</td>\n",
       "      <td>39</td>\n",
       "      <td>1</td>\n",
       "      <td>8014.0</td>\n",
       "      <td>0</td>\n",
       "      <td>1</td>\n",
       "      <td>100.0</td>\n",
       "      <td>1</td>\n",
       "      <td>37</td>\n",
       "      <td>38.0</td>\n",
       "      <td>...</td>\n",
       "      <td>0</td>\n",
       "      <td>0</td>\n",
       "      <td>6.0</td>\n",
       "      <td>6</td>\n",
       "      <td>6</td>\n",
       "      <td>13.000000</td>\n",
       "      <td>0</td>\n",
       "      <td>13.9</td>\n",
       "      <td>-0.3</td>\n",
       "      <td>0.79</td>\n",
       "    </tr>\n",
       "  </tbody>\n",
       "</table>\n",
       "<p>5 rows × 36 columns</p>\n",
       "</div>"
      ],
      "text/plain": [
       "   Marital_status  Application_mode  Application_order  Course  \\\n",
       "0             1.0                17                  5   171.0   \n",
       "1             1.0                15                  1  9254.0   \n",
       "2             1.0                 1                  5  9070.0   \n",
       "3             1.0                17                  2  9773.0   \n",
       "4             2.0                39                  1  8014.0   \n",
       "\n",
       "   Daytime/evening_attendance  Previous_qualification  \\\n",
       "0                           1                       1   \n",
       "1                           1                       1   \n",
       "2                           1                       1   \n",
       "3                           1                       1   \n",
       "4                           0                       1   \n",
       "\n",
       "   Previous_qualification_(grade)  Nacionality  Mother's_qualification  \\\n",
       "0                           122.0            1                      19   \n",
       "1                           160.0            1                       1   \n",
       "2                           122.0            1                      37   \n",
       "3                           122.0            1                      38   \n",
       "4                           100.0            1                      37   \n",
       "\n",
       "   Father's_qualification  ...  \\\n",
       "0                    12.0  ...   \n",
       "1                     3.0  ...   \n",
       "2                    37.0  ...   \n",
       "3                    37.0  ...   \n",
       "4                    38.0  ...   \n",
       "\n",
       "   Curricular_units_1st_sem_(without_evaluations)  \\\n",
       "0                                               0   \n",
       "1                                               0   \n",
       "2                                               0   \n",
       "3                                               0   \n",
       "4                                               0   \n",
       "\n",
       "   Curricular_units_2nd_sem_(credited)  Curricular_units_2nd_sem_(enrolled)  \\\n",
       "0                                    0                                  0.0   \n",
       "1                                    0                                  6.0   \n",
       "2                                    0                                  6.0   \n",
       "3                                    0                                  6.0   \n",
       "4                                    0                                  6.0   \n",
       "\n",
       "   Curricular_units_2nd_sem_(evaluations)  \\\n",
       "0                                       0   \n",
       "1                                       6   \n",
       "2                                       0   \n",
       "3                                      10   \n",
       "4                                       6   \n",
       "\n",
       "   Curricular_units_2nd_sem_(approved)  Curricular_units_2nd_sem_(grade)  \\\n",
       "0                                    0                          0.000000   \n",
       "1                                    6                         13.666667   \n",
       "2                                    0                          0.000000   \n",
       "3                                    5                         12.400000   \n",
       "4                                    6                         13.000000   \n",
       "\n",
       "   Curricular_units_2nd_sem_(without_evaluations)  Unemployment_rate  \\\n",
       "0                                               0               10.8   \n",
       "1                                               0               13.9   \n",
       "2                                               0               10.8   \n",
       "3                                               0                9.4   \n",
       "4                                               0               13.9   \n",
       "\n",
       "   Inflation_rate   GDP  \n",
       "0             1.4  1.74  \n",
       "1            -0.3  0.79  \n",
       "2             1.4  1.74  \n",
       "3            -0.8 -3.12  \n",
       "4            -0.3  0.79  \n",
       "\n",
       "[5 rows x 36 columns]"
      ]
     },
     "execution_count": 24,
     "metadata": {},
     "output_type": "execute_result"
    }
   ],
   "source": [
    "df_no_label.head()"
   ]
  },
  {
   "cell_type": "code",
   "execution_count": 25,
   "id": "d324616d",
   "metadata": {},
   "outputs": [
    {
     "data": {
      "image/png": "[encoded data removed]",
      "text/plain": [
       "<Figure size 640x480 with 1 Axes>"
      ]
     },
     "metadata": {},
     "output_type": "display_data"
    }
   ],
   "source": [
    "pca=PCA().fit(df_no_label)\n",
    "plt.plot(np.cumsum(pca.explained_variance_ratio_))\n",
    "plt.xlabel(\"Number of Components\")\n",
    "plt.ylabel(\"Cumulative Explained Variance\");"
   ]
  },
  {
   "cell_type": "code",
   "execution_count": 26,
   "id": "81a11327",
   "metadata": {},
   "outputs": [],
   "source": [
    "pca=PCA(15)\n",
    "projected=pca.fit_transform(df_no_label)"
   ]
  },
  {
   "cell_type": "code",
   "execution_count": 27,
   "id": "c396424d",
   "metadata": {},
   "outputs": [
    {
     "data": {
      "text/plain": [
       "(4411, 15)"
      ]
     },
     "execution_count": 27,
     "metadata": {},
     "output_type": "execute_result"
    }
   ],
   "source": [
    "projected.shape"
   ]
  },
  {
   "cell_type": "code",
   "execution_count": 28,
   "id": "03b393e3",
   "metadata": {},
   "outputs": [],
   "source": [
    "df_pca=pd.DataFrame(projected, columns =[\"C1\",\"C2\",\"C3\",\"C4\",\"C5\",\"C6\",\"C7\",\"C8\",\"C9\",\"C10\",\"C11\",\"C12\",\"C13\",\"C14\",\"C15\"])"
   ]
  },
  {
   "cell_type": "code",
   "execution_count": 29,
   "id": "5fd2a802",
   "metadata": {},
   "outputs": [
    {
     "data": {
      "text/html": [
       "<div>\n",
       "<style scoped>\n",
       "    .dataframe tbody tr th:only-of-type {\n",
       "        vertical-align: middle;\n",
       "    }\n",
       "\n",
       "    .dataframe tbody tr th {\n",
       "        vertical-align: top;\n",
       "    }\n",
       "\n",
       "    .dataframe thead th {\n",
       "        text-align: right;\n",
       "    }\n",
       "</style>\n",
       "<table border=\"1\" class=\"dataframe\">\n",
       "  <thead>\n",
       "    <tr style=\"text-align: right;\">\n",
       "      <th></th>\n",
       "      <th>C1</th>\n",
       "      <th>C2</th>\n",
       "      <th>C3</th>\n",
       "      <th>C4</th>\n",
       "      <th>C5</th>\n",
       "      <th>C6</th>\n",
       "      <th>C7</th>\n",
       "      <th>C8</th>\n",
       "      <th>C9</th>\n",
       "      <th>C10</th>\n",
       "      <th>C11</th>\n",
       "      <th>C12</th>\n",
       "      <th>C13</th>\n",
       "      <th>C14</th>\n",
       "      <th>C15</th>\n",
       "    </tr>\n",
       "  </thead>\n",
       "  <tbody>\n",
       "    <tr>\n",
       "      <th>0</th>\n",
       "      <td>8690.618234</td>\n",
       "      <td>-0.922272</td>\n",
       "      <td>-1.156732</td>\n",
       "      <td>-6.148618</td>\n",
       "      <td>-15.234274</td>\n",
       "      <td>6.821512</td>\n",
       "      <td>3.413059</td>\n",
       "      <td>5.337476</td>\n",
       "      <td>-6.391775</td>\n",
       "      <td>-2.859778</td>\n",
       "      <td>-1.247631</td>\n",
       "      <td>-5.390655</td>\n",
       "      <td>-2.229611</td>\n",
       "      <td>0.547886</td>\n",
       "      <td>-0.946406</td>\n",
       "    </tr>\n",
       "    <tr>\n",
       "      <th>1</th>\n",
       "      <td>-392.352575</td>\n",
       "      <td>-13.792193</td>\n",
       "      <td>28.935399</td>\n",
       "      <td>22.581788</td>\n",
       "      <td>15.347688</td>\n",
       "      <td>1.456785</td>\n",
       "      <td>-12.066040</td>\n",
       "      <td>-1.440175</td>\n",
       "      <td>2.309746</td>\n",
       "      <td>-1.880907</td>\n",
       "      <td>-2.970336</td>\n",
       "      <td>-0.219032</td>\n",
       "      <td>-3.625523</td>\n",
       "      <td>1.365648</td>\n",
       "      <td>1.342257</td>\n",
       "    </tr>\n",
       "    <tr>\n",
       "      <th>2</th>\n",
       "      <td>-208.377218</td>\n",
       "      <td>-2.072389</td>\n",
       "      <td>-8.699952</td>\n",
       "      <td>-27.817669</td>\n",
       "      <td>8.340147</td>\n",
       "      <td>2.612732</td>\n",
       "      <td>4.301406</td>\n",
       "      <td>4.056984</td>\n",
       "      <td>-18.611866</td>\n",
       "      <td>2.556335</td>\n",
       "      <td>0.559512</td>\n",
       "      <td>-3.822841</td>\n",
       "      <td>4.736258</td>\n",
       "      <td>6.415485</td>\n",
       "      <td>-0.774189</td>\n",
       "    </tr>\n",
       "    <tr>\n",
       "      <th>3</th>\n",
       "      <td>-911.421657</td>\n",
       "      <td>-9.027342</td>\n",
       "      <td>-18.157498</td>\n",
       "      <td>-18.952023</td>\n",
       "      <td>1.357345</td>\n",
       "      <td>2.024945</td>\n",
       "      <td>3.204783</td>\n",
       "      <td>0.339997</td>\n",
       "      <td>2.764624</td>\n",
       "      <td>0.947694</td>\n",
       "      <td>-0.037455</td>\n",
       "      <td>-5.876638</td>\n",
       "      <td>-0.820115</td>\n",
       "      <td>-0.944101</td>\n",
       "      <td>0.044792</td>\n",
       "    </tr>\n",
       "    <tr>\n",
       "      <th>4</th>\n",
       "      <td>847.564697</td>\n",
       "      <td>-0.149329</td>\n",
       "      <td>-36.373231</td>\n",
       "      <td>-0.441910</td>\n",
       "      <td>-7.446410</td>\n",
       "      <td>3.666817</td>\n",
       "      <td>22.203476</td>\n",
       "      <td>28.043036</td>\n",
       "      <td>4.137535</td>\n",
       "      <td>2.053103</td>\n",
       "      <td>0.597940</td>\n",
       "      <td>7.166030</td>\n",
       "      <td>-7.767607</td>\n",
       "      <td>-0.619513</td>\n",
       "      <td>2.303893</td>\n",
       "    </tr>\n",
       "  </tbody>\n",
       "</table>\n",
       "</div>"
      ],
      "text/plain": [
       "            C1         C2         C3         C4         C5        C6  \\\n",
       "0  8690.618234  -0.922272  -1.156732  -6.148618 -15.234274  6.821512   \n",
       "1  -392.352575 -13.792193  28.935399  22.581788  15.347688  1.456785   \n",
       "2  -208.377218  -2.072389  -8.699952 -27.817669   8.340147  2.612732   \n",
       "3  -911.421657  -9.027342 -18.157498 -18.952023   1.357345  2.024945   \n",
       "4   847.564697  -0.149329 -36.373231  -0.441910  -7.446410  3.666817   \n",
       "\n",
       "          C7         C8         C9       C10       C11       C12       C13  \\\n",
       "0   3.413059   5.337476  -6.391775 -2.859778 -1.247631 -5.390655 -2.229611   \n",
       "1 -12.066040  -1.440175   2.309746 -1.880907 -2.970336 -0.219032 -3.625523   \n",
       "2   4.301406   4.056984 -18.611866  2.556335  0.559512 -3.822841  4.736258   \n",
       "3   3.204783   0.339997   2.764624  0.947694 -0.037455 -5.876638 -0.820115   \n",
       "4  22.203476  28.043036   4.137535  2.053103  0.597940  7.166030 -7.767607   \n",
       "\n",
       "        C14       C15  \n",
       "0  0.547886 -0.946406  \n",
       "1  1.365648  1.342257  \n",
       "2  6.415485 -0.774189  \n",
       "3 -0.944101  0.044792  \n",
       "4 -0.619513  2.303893  "
      ]
     },
     "execution_count": 29,
     "metadata": {},
     "output_type": "execute_result"
    }
   ],
   "source": [
    "df_pca.head()"
   ]
  },
  {
   "cell_type": "code",
   "execution_count": 30,
   "id": "78688076",
   "metadata": {},
   "outputs": [
    {
     "data": {
      "text/plain": [
       "False"
      ]
     },
     "execution_count": 30,
     "metadata": {},
     "output_type": "execute_result"
    }
   ],
   "source": [
    "df_pca.isnull().values.any()"
   ]
  },
  {
   "cell_type": "code",
   "execution_count": 31,
   "id": "f4699a0a",
   "metadata": {},
   "outputs": [],
   "source": [
    "df_pca[\"Target\"]=df[\"Target\"]"
   ]
  },
  {
   "cell_type": "code",
   "execution_count": 32,
   "id": "5fcb1991",
   "metadata": {},
   "outputs": [
    {
     "data": {
      "text/html": [
       "<div>\n",
       "<style scoped>\n",
       "    .dataframe tbody tr th:only-of-type {\n",
       "        vertical-align: middle;\n",
       "    }\n",
       "\n",
       "    .dataframe tbody tr th {\n",
       "        vertical-align: top;\n",
       "    }\n",
       "\n",
       "    .dataframe thead th {\n",
       "        text-align: right;\n",
       "    }\n",
       "</style>\n",
       "<table border=\"1\" class=\"dataframe\">\n",
       "  <thead>\n",
       "    <tr style=\"text-align: right;\">\n",
       "      <th></th>\n",
       "      <th>C1</th>\n",
       "      <th>C2</th>\n",
       "      <th>C3</th>\n",
       "      <th>C4</th>\n",
       "      <th>C5</th>\n",
       "      <th>C6</th>\n",
       "      <th>C7</th>\n",
       "      <th>C8</th>\n",
       "      <th>C9</th>\n",
       "      <th>C10</th>\n",
       "      <th>C11</th>\n",
       "      <th>C12</th>\n",
       "      <th>C13</th>\n",
       "      <th>C14</th>\n",
       "      <th>C15</th>\n",
       "      <th>Target</th>\n",
       "    </tr>\n",
       "  </thead>\n",
       "  <tbody>\n",
       "    <tr>\n",
       "      <th>0</th>\n",
       "      <td>8690.618234</td>\n",
       "      <td>-0.922272</td>\n",
       "      <td>-1.156732</td>\n",
       "      <td>-6.148618</td>\n",
       "      <td>-15.234274</td>\n",
       "      <td>6.821512</td>\n",
       "      <td>3.413059</td>\n",
       "      <td>5.337476</td>\n",
       "      <td>-6.391775</td>\n",
       "      <td>-2.859778</td>\n",
       "      <td>-1.247631</td>\n",
       "      <td>-5.390655</td>\n",
       "      <td>-2.229611</td>\n",
       "      <td>0.547886</td>\n",
       "      <td>-0.946406</td>\n",
       "      <td>0.0</td>\n",
       "    </tr>\n",
       "    <tr>\n",
       "      <th>1</th>\n",
       "      <td>-392.352575</td>\n",
       "      <td>-13.792193</td>\n",
       "      <td>28.935399</td>\n",
       "      <td>22.581788</td>\n",
       "      <td>15.347688</td>\n",
       "      <td>1.456785</td>\n",
       "      <td>-12.066040</td>\n",
       "      <td>-1.440175</td>\n",
       "      <td>2.309746</td>\n",
       "      <td>-1.880907</td>\n",
       "      <td>-2.970336</td>\n",
       "      <td>-0.219032</td>\n",
       "      <td>-3.625523</td>\n",
       "      <td>1.365648</td>\n",
       "      <td>1.342257</td>\n",
       "      <td>1.0</td>\n",
       "    </tr>\n",
       "    <tr>\n",
       "      <th>2</th>\n",
       "      <td>-208.377218</td>\n",
       "      <td>-2.072389</td>\n",
       "      <td>-8.699952</td>\n",
       "      <td>-27.817669</td>\n",
       "      <td>8.340147</td>\n",
       "      <td>2.612732</td>\n",
       "      <td>4.301406</td>\n",
       "      <td>4.056984</td>\n",
       "      <td>-18.611866</td>\n",
       "      <td>2.556335</td>\n",
       "      <td>0.559512</td>\n",
       "      <td>-3.822841</td>\n",
       "      <td>4.736258</td>\n",
       "      <td>6.415485</td>\n",
       "      <td>-0.774189</td>\n",
       "      <td>0.0</td>\n",
       "    </tr>\n",
       "    <tr>\n",
       "      <th>3</th>\n",
       "      <td>-911.421657</td>\n",
       "      <td>-9.027342</td>\n",
       "      <td>-18.157498</td>\n",
       "      <td>-18.952023</td>\n",
       "      <td>1.357345</td>\n",
       "      <td>2.024945</td>\n",
       "      <td>3.204783</td>\n",
       "      <td>0.339997</td>\n",
       "      <td>2.764624</td>\n",
       "      <td>0.947694</td>\n",
       "      <td>-0.037455</td>\n",
       "      <td>-5.876638</td>\n",
       "      <td>-0.820115</td>\n",
       "      <td>-0.944101</td>\n",
       "      <td>0.044792</td>\n",
       "      <td>1.0</td>\n",
       "    </tr>\n",
       "    <tr>\n",
       "      <th>4</th>\n",
       "      <td>847.564697</td>\n",
       "      <td>-0.149329</td>\n",
       "      <td>-36.373231</td>\n",
       "      <td>-0.441910</td>\n",
       "      <td>-7.446410</td>\n",
       "      <td>3.666817</td>\n",
       "      <td>22.203476</td>\n",
       "      <td>28.043036</td>\n",
       "      <td>4.137535</td>\n",
       "      <td>2.053103</td>\n",
       "      <td>0.597940</td>\n",
       "      <td>7.166030</td>\n",
       "      <td>-7.767607</td>\n",
       "      <td>-0.619513</td>\n",
       "      <td>2.303893</td>\n",
       "      <td>1.0</td>\n",
       "    </tr>\n",
       "  </tbody>\n",
       "</table>\n",
       "</div>"
      ],
      "text/plain": [
       "            C1         C2         C3         C4         C5        C6  \\\n",
       "0  8690.618234  -0.922272  -1.156732  -6.148618 -15.234274  6.821512   \n",
       "1  -392.352575 -13.792193  28.935399  22.581788  15.347688  1.456785   \n",
       "2  -208.377218  -2.072389  -8.699952 -27.817669   8.340147  2.612732   \n",
       "3  -911.421657  -9.027342 -18.157498 -18.952023   1.357345  2.024945   \n",
       "4   847.564697  -0.149329 -36.373231  -0.441910  -7.446410  3.666817   \n",
       "\n",
       "          C7         C8         C9       C10       C11       C12       C13  \\\n",
       "0   3.413059   5.337476  -6.391775 -2.859778 -1.247631 -5.390655 -2.229611   \n",
       "1 -12.066040  -1.440175   2.309746 -1.880907 -2.970336 -0.219032 -3.625523   \n",
       "2   4.301406   4.056984 -18.611866  2.556335  0.559512 -3.822841  4.736258   \n",
       "3   3.204783   0.339997   2.764624  0.947694 -0.037455 -5.876638 -0.820115   \n",
       "4  22.203476  28.043036   4.137535  2.053103  0.597940  7.166030 -7.767607   \n",
       "\n",
       "        C14       C15  Target  \n",
       "0  0.547886 -0.946406     0.0  \n",
       "1  1.365648  1.342257     1.0  \n",
       "2  6.415485 -0.774189     0.0  \n",
       "3 -0.944101  0.044792     1.0  \n",
       "4 -0.619513  2.303893     1.0  "
      ]
     },
     "execution_count": 32,
     "metadata": {},
     "output_type": "execute_result"
    }
   ],
   "source": [
    "df_pca.head()"
   ]
  },
  {
   "cell_type": "code",
   "execution_count": 33,
   "id": "836430a8",
   "metadata": {},
   "outputs": [
    {
     "data": {
      "text/plain": [
       "array([ 0.,  1.,  2., nan])"
      ]
     },
     "execution_count": 33,
     "metadata": {},
     "output_type": "execute_result"
    }
   ],
   "source": [
    "df_pca['Target'].unique()"
   ]
  },
  {
   "cell_type": "code",
   "execution_count": 34,
   "id": "71b84ee1",
   "metadata": {},
   "outputs": [
    {
     "data": {
      "text/plain": [
       "True"
      ]
     },
     "execution_count": 34,
     "metadata": {},
     "output_type": "execute_result"
    }
   ],
   "source": [
    "df_pca.isnull().values.any()"
   ]
  },
  {
   "cell_type": "code",
   "execution_count": 35,
   "id": "d60c9c4f",
   "metadata": {},
   "outputs": [],
   "source": [
    "df_pca=df_pca.dropna(axis=0)"
   ]
  },
  {
   "cell_type": "code",
   "execution_count": 36,
   "id": "54800f2a",
   "metadata": {},
   "outputs": [
    {
     "data": {
      "text/plain": [
       "False"
      ]
     },
     "execution_count": 36,
     "metadata": {},
     "output_type": "execute_result"
    }
   ],
   "source": [
    "df_pca.isnull().values.any()"
   ]
  },
  {
   "cell_type": "code",
   "execution_count": 37,
   "id": "a1bb9618",
   "metadata": {},
   "outputs": [],
   "source": [
    "df_array=df_pca.values"
   ]
  },
  {
   "cell_type": "code",
   "execution_count": 38,
   "id": "7e4a5a8c",
   "metadata": {},
   "outputs": [
    {
     "data": {
      "text/plain": [
       "array([[ 8.69061823e+03, -9.22272395e-01, -1.15673165e+00, ...,\n",
       "         5.47885683e-01, -9.46405579e-01,  0.00000000e+00],\n",
       "       [-3.92352575e+02, -1.37921933e+01,  2.89353994e+01, ...,\n",
       "         1.36564809e+00,  1.34225709e+00,  1.00000000e+00],\n",
       "       [-2.08377218e+02, -2.07238919e+00, -8.69995248e+00, ...,\n",
       "         6.41548472e+00, -7.74189424e-01,  0.00000000e+00],\n",
       "       ...,\n",
       "       [-6.38377889e+02, -3.09965699e+00, -3.77899558e+00, ...,\n",
       "        -2.40846487e+00,  1.19408925e+00,  0.00000000e+00],\n",
       "       [-2.85350307e+02, -8.21268574e+00,  1.15962595e+00, ...,\n",
       "        -4.99192822e-03, -3.85866410e-01,  1.00000000e+00],\n",
       "       [-9.11370995e+02, -5.83578648e+00, -6.93552641e+00, ...,\n",
       "         8.70297953e-01,  2.37173640e+00,  1.00000000e+00]])"
      ]
     },
     "execution_count": 38,
     "metadata": {},
     "output_type": "execute_result"
    }
   ],
   "source": [
    "df_array"
   ]
  },
  {
   "cell_type": "code",
   "execution_count": 71,
   "id": "7002a026",
   "metadata": {},
   "outputs": [],
   "source": [
    "from sklearn.model_selection import train_test_split\n",
    "X = df_array[:,0:15]\n",
    "y = df_array[:,15]\n",
    "X_train, X_validation, Y_train, Y_validation = train_test_split(X, y, test_size=0.10, random_state=1)"
   ]
  },
  {
   "cell_type": "code",
   "execution_count": 69,
   "id": "124c4343",
   "metadata": {},
   "outputs": [],
   "source": [
    "from matplotlib import pyplot\n",
    "from sklearn.model_selection import train_test_split\n",
    "from sklearn.model_selection import cross_val_score\n",
    "from sklearn.model_selection import StratifiedKFold\n",
    "from sklearn.linear_model import LogisticRegression\n",
    "from sklearn.tree import DecisionTreeClassifier\n",
    "from sklearn.neighbors import KNeighborsClassifier\n",
    "from sklearn.discriminant_analysis import LinearDiscriminantAnalysis\n",
    "from sklearn.naive_bayes import GaussianNB\n",
    "from sklearn.metrics import classification_report\n",
    "from sklearn.metrics import confusion_matrix\n",
    "from sklearn.metrics import accuracy_score\n",
    "from sklearn.svm import SVC"
   ]
  },
  {
   "cell_type": "code",
   "execution_count": 63,
   "id": "131421d7",
   "metadata": {},
   "outputs": [],
   "source": [
    "models = []\n",
    "models.append(('LR', LogisticRegression(solver='liblinear', multi_class='ovr')))\n",
    "models.append(('LDA', LinearDiscriminantAnalysis()))\n",
    "models.append(('KNN', KNeighborsClassifier()))\n",
    "models.append(('CART', DecisionTreeClassifier()))\n",
    "models.append(('NB', GaussianNB()))\n",
    "models.append(('SVM', SVC(gamma='auto')))"
   ]
  },
  {
   "cell_type": "code",
   "execution_count": 64,
   "id": "01de7c15",
   "metadata": {},
   "outputs": [
    {
     "name": "stdout",
     "output_type": "stream",
     "text": [
      "LR: 0.491789 (0.008363)\n",
      "LDA: 0.490275 (0.009450)\n",
      "KNN: 0.446077 (0.020600)\n",
      "CART: 0.385198 (0.017631)\n",
      "NB: 0.469566 (0.023811)\n",
      "SVM: 0.496591 (0.004074)\n"
     ]
    }
   ],
   "source": [
    "results = []\n",
    "names = []\n",
    "for name, model in models:\n",
    "\tkfold = StratifiedKFold(n_splits=10, random_state=1, shuffle=True)\n",
    "\tcv_results = cross_val_score(model, X_train, Y_train, cv=kfold, scoring='accuracy')\n",
    "\tresults.append(cv_results)\n",
    "\tnames.append(name)\n",
    "\tprint('%s: %f (%f)' % (name, cv_results.mean(), cv_results.std()))"
   ]
  },
  {
   "cell_type": "code",
   "execution_count": 65,
   "id": "6c93fc31",
   "metadata": {},
   "outputs": [
    {
     "data": {
      "image/png": "[encoded data removed]",
      "text/plain": [
       "<Figure size 640x480 with 1 Axes>"
      ]
     },
     "metadata": {},
     "output_type": "display_data"
    }
   ],
   "source": [
    "pyplot.boxplot(results, labels=names)\n",
    "pyplot.title('Algorithm Comparison')\n",
    "pyplot.show()"
   ]
  },
  {
   "cell_type": "code",
   "execution_count": 66,
   "id": "568f99f3",
   "metadata": {},
   "outputs": [],
   "source": [
    "model = LogisticRegression(solver='liblinear', multi_class='ovr')\n",
    "model.fit(X_train, Y_train)\n",
    "predictions = model.predict(X_validation)"
   ]
  },
  {
   "cell_type": "code",
   "execution_count": 67,
   "id": "1399f927",
   "metadata": {},
   "outputs": [
    {
     "name": "stdout",
     "output_type": "stream",
     "text": [
      "0.5159090909090909\n",
      "[[  4 132   0]\n",
      " [  6 223   0]\n",
      " [  1  74   0]]\n"
     ]
    }
   ],
   "source": [
    "print(accuracy_score(Y_validation, predictions))\n",
    "print(confusion_matrix(Y_validation, predictions))"
   ]
  },
  {
   "cell_type": "code",
   "execution_count": null,
   "id": "d9f90fb2",
   "metadata": {},
   "outputs": [],
   "source": []
  },
  {
   "cell_type": "code",
   "execution_count": null,
   "id": "bf51507b",
   "metadata": {},
   "outputs": [],
   "source": []
  },
  {
   "cell_type": "code",
   "execution_count": null,
   "id": "dccee487",
   "metadata": {},
   "outputs": [],
   "source": []
  }
 ],
 "metadata": {
  "kernelspec": {
   "display_name": "Python 3 (ipykernel)",
   "language": "python",
   "name": "python3"
  },
  "language_info": {
   "codemirror_mode": {
    "name": "ipython",
    "version": 3
   },
   "file_extension": ".py",
   "mimetype": "text/x-python",
   "name": "python",
   "nbconvert_exporter": "python",
   "pygments_lexer": "ipython3",
   "version": "3.11.5"
  }
 },
 "nbformat": 4,
 "nbformat_minor": 5
}
